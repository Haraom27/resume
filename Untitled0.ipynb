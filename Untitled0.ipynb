{
  "nbformat": 4,
  "nbformat_minor": 0,
  "metadata": {
    "colab": {
      "provenance": []
    },
    "kernelspec": {
      "name": "python3",
      "display_name": "Python 3"
    },
    "language_info": {
      "name": "python"
    }
  },
  "cells": [
    {
      "cell_type": "code",
      "execution_count": 1,
      "metadata": {
        "id": "p2xg4ifcBNzR",
        "colab": {
          "base_uri": "https://localhost:8080/"
        },
        "outputId": "c31dd451-3bb0-49b0-c725-bafaedaefb6f"
      },
      "outputs": [
        {
          "output_type": "stream",
          "name": "stdout",
          "text": [
            "Name: John Doe\n",
            "Email: john.doe@example.com\n",
            "Phone: 555-555-5555\n"
          ]
        }
      ],
      "source": [
        "import re\n",
        "\n",
        "def extract_name(resume_text):\n",
        "    # Define a regular expression pattern to find the name.\n",
        "    name_pattern = re.compile(r\"([A-Z][a-z]+)( [A-Z][a-z]+)*\")\n",
        "\n",
        "    # Search for the name pattern in the resume text.\n",
        "    name_match = name_pattern.search(resume_text)\n",
        "\n",
        "    # Return the matched name (if found).\n",
        "    if name_match:\n",
        "        return name_match.group(0)\n",
        "    else:\n",
        "        return None\n",
        "\n",
        "def extract_email(resume_text):\n",
        "    # Define a regular expression pattern to find the email address.\n",
        "    email_pattern = re.compile(r\"\\b[A-Za-z0-9._%+-]+@[A-Za-z0-9.-]+\\.[A-Z|a-z]{2,}\\b\")\n",
        "\n",
        "    # Search for the email pattern in the resume text.\n",
        "    email_match = email_pattern.search(resume_text)\n",
        "\n",
        "    # Return the matched email (if found).\n",
        "    if email_match:\n",
        "        return email_match.group(0)\n",
        "    else:\n",
        "        return None\n",
        "\n",
        "def extract_phone_number(resume_text):\n",
        "    # Define a regular expression pattern to find the phone number.\n",
        "    phone_pattern = re.compile(r\"\\b\\d{3}[-.\\s]?\\d{3}[-.\\s]?\\d{4}\\b\")\n",
        "\n",
        "    # Search for the phone number pattern in the resume text.\n",
        "    phone_match = phone_pattern.search(resume_text)\n",
        "\n",
        "    # Return the matched phone number (if found).\n",
        "    if phone_match:\n",
        "        return phone_match.group(0)\n",
        "    else:\n",
        "        return None\n",
        "\n",
        "if __name__ == \"__main__\":\n",
        "    # Sample resume text (you can replace this with your actual resume text).\n",
        "    resume_text = \"\"\"\n",
        "    John Doe\n",
        "    Email: john.doe@example.com\n",
        "    Phone: 555-555-5555\n",
        "    Address: 123 Main St, City, State\n",
        "\n",
        "    Professional Summary:\n",
        "    ...\n",
        "    \"\"\"\n",
        "\n",
        "    # Extract name, email, and phone number from the resume.\n",
        "    name = extract_name(resume_text)\n",
        "    email = extract_email(resume_text)\n",
        "    phone = extract_phone_number(resume_text)\n",
        "\n",
        "    print(\"Name:\", name)\n",
        "    print(\"Email:\", email)\n",
        "    print(\"Phone:\", phone)"
      ]
    }
  ]
}